{
 "cells": [
  {
   "cell_type": "code",
   "execution_count": 5,
   "metadata": {},
   "outputs": [],
   "source": [
    "from dotenv import load_dotenv \n",
    "load_dotenv('../.env')\n",
    "\n",
    "import pandas as pd \n",
    "from langchain.schema import Document\n",
    "from langchain_text_splitters import RecursiveCharacterTextSplitter, CharacterTextSplitter\n",
    "import yaml\n",
    "import driver.weaviatedb as weaviatedb\n",
    "import uuid\n",
    "import os\n",
    "from typing import Dict, List, Any, Optional\n",
    "import re\n",
    "from tqdm import tqdm\n",
    "\n",
    "from langchain_openai import ChatOpenAI, OpenAI\n",
    "from langchain_community.llms import Ollama\n",
    "from langchain_community.chat_models import ChatOllama\n",
    "from langchain.chains import LLMChain, ConversationalRetrievalChain\n",
    "from langchain.chains.combine_documents.stuff import StuffDocumentsChain\n",
    "from langchain.memory import ConversationBufferMemory\n",
    "from langchain_core.runnables.history import RunnableWithMessageHistory\n",
    "from langchain_openai import OpenAIEmbeddings\n",
    "from langchain_community.embeddings import OllamaEmbeddings\n",
    "from driver import redisdb, weaviatedb\n",
    "from service.langchainbot import LangChainBot\n",
    "import warnings; warnings.simplefilter('ignore')\n",
    "\n"
   ]
  },
  {
   "cell_type": "markdown",
   "metadata": {},
   "source": [
    "# About Dataset\n",
    "\n",
    "The file data/recipes.csv contains information on over 1000 recipes, including recipe names, preparation times, cooking times, ratings, ingredient lists, and step-by-step directions\n",
    "\n",
    "In this project, I just use for 100 recipes.\n",
    "\n",
    "- recipe_name: The name of the recipe. (String)\n",
    "- prep_time: The amount of time required to prepare the recipe. (Integer)\n",
    "- cook_time: The amount of time required to cook the recipe. (Integer)\n",
    "- total_time: The total amount of time required to prepare and cook the recipe. (Integer)\n",
    "- servings: The number of servings the recipe yields. (Integer)\n",
    "- ingredients: A list of ingredients required to make the recipe. (List)\n",
    "- directions: A list of directions for preparing and cooking the recipe. (List)\n",
    "- rating: The recipe rating. (Float)\n",
    "- url: The recipe URL. (String)\n",
    "- cuisine_path: The recipe cuisine path. (String)\n",
    "- nutrition: The recipe nutrition information. (Dictionary)\n",
    "- timing: The recipe timing information. (Dictionary)\n",
    "- img_src: Links to the image of the recipe\n",
    "\n",
    "This dataset from Kaggle: [Recipes Dataset](https://www.kaggle.com/datasets/thedevastator/better-recipes-for-a-better-life)\n"
   ]
  },
  {
   "cell_type": "markdown",
   "metadata": {},
   "source": [
    "# Data Processing"
   ]
  },
  {
   "cell_type": "code",
   "execution_count": 2,
   "metadata": {},
   "outputs": [
    {
     "data": {
      "text/html": [
       "<div>\n",
       "<style scoped>\n",
       "    .dataframe tbody tr th:only-of-type {\n",
       "        vertical-align: middle;\n",
       "    }\n",
       "\n",
       "    .dataframe tbody tr th {\n",
       "        vertical-align: top;\n",
       "    }\n",
       "\n",
       "    .dataframe thead th {\n",
       "        text-align: right;\n",
       "    }\n",
       "</style>\n",
       "<table border=\"1\" class=\"dataframe\">\n",
       "  <thead>\n",
       "    <tr style=\"text-align: right;\">\n",
       "      <th></th>\n",
       "      <th>Unnamed: 0</th>\n",
       "      <th>recipe_name</th>\n",
       "      <th>prep_time</th>\n",
       "      <th>cook_time</th>\n",
       "      <th>total_time</th>\n",
       "      <th>servings</th>\n",
       "      <th>yield</th>\n",
       "      <th>ingredients</th>\n",
       "      <th>directions</th>\n",
       "      <th>rating</th>\n",
       "      <th>url</th>\n",
       "      <th>cuisine_path</th>\n",
       "      <th>nutrition</th>\n",
       "      <th>timing</th>\n",
       "      <th>img_src</th>\n",
       "    </tr>\n",
       "  </thead>\n",
       "  <tbody>\n",
       "    <tr>\n",
       "      <th>0</th>\n",
       "      <td>0</td>\n",
       "      <td>Apple-Cranberry Crostada</td>\n",
       "      <td>NaN</td>\n",
       "      <td>NaN</td>\n",
       "      <td>NaN</td>\n",
       "      <td>8</td>\n",
       "      <td>6 to 8 - servings</td>\n",
       "      <td>3 tablespoons butter, 2 pounds Granny Smith ap...</td>\n",
       "      <td>Heat butter in a large skillet over medium-hig...</td>\n",
       "      <td>4.4</td>\n",
       "      <td>https://www.allrecipes.com/recipe/76931/apple-...</td>\n",
       "      <td>/Desserts/Fruit Desserts/Apple Dessert Recipes/</td>\n",
       "      <td>Total Fat 18g 23%, Saturated Fat 7g 34%, Chole...</td>\n",
       "      <td>Servings: 8, Yield: 6 to 8 - servings</td>\n",
       "      <td>https://www.allrecipes.com/thmb/Tf1wH73bfH6Oql...</td>\n",
       "    </tr>\n",
       "    <tr>\n",
       "      <th>1</th>\n",
       "      <td>1</td>\n",
       "      <td>Apple Pie by Grandma Ople</td>\n",
       "      <td>30 mins</td>\n",
       "      <td>1 hrs</td>\n",
       "      <td>1 hrs 30 mins</td>\n",
       "      <td>8</td>\n",
       "      <td>1 9-inch pie</td>\n",
       "      <td>8 small Granny Smith apples, or as needed, ½ c...</td>\n",
       "      <td>Peel and core apples, then thinly slice. Set a...</td>\n",
       "      <td>4.8</td>\n",
       "      <td>https://www.allrecipes.com/recipe/12682/apple-...</td>\n",
       "      <td>/Desserts/Pies/Apple Pie Recipes/</td>\n",
       "      <td>Total Fat 19g 24%, Saturated Fat 9g 46%, Chole...</td>\n",
       "      <td>Prep Time: 30 mins, Cook Time: 1 hrs, Total Ti...</td>\n",
       "      <td>https://www.allrecipes.com/thmb/1I95oiTGz6aEpu...</td>\n",
       "    </tr>\n",
       "    <tr>\n",
       "      <th>2</th>\n",
       "      <td>2</td>\n",
       "      <td>Sarah's Homemade Applesauce</td>\n",
       "      <td>10 mins</td>\n",
       "      <td>15 mins</td>\n",
       "      <td>25 mins</td>\n",
       "      <td>4</td>\n",
       "      <td>NaN</td>\n",
       "      <td>4  apples - peeled, cored and chopped, ¾ cup w...</td>\n",
       "      <td>Combine apples, water, sugar, and cinnamon in ...</td>\n",
       "      <td>4.8</td>\n",
       "      <td>https://www.allrecipes.com/recipe/51301/sarahs...</td>\n",
       "      <td>/Side Dish/Applesauce Recipes/</td>\n",
       "      <td>Total Fat 0g 0%, Sodium 3mg 0%, Total Carbohyd...</td>\n",
       "      <td>Prep Time: 10 mins, Cook Time: 15 mins, Total ...</td>\n",
       "      <td>https://www.allrecipes.com/thmb/VY5d0tZHB8xz6y...</td>\n",
       "    </tr>\n",
       "    <tr>\n",
       "      <th>3</th>\n",
       "      <td>3</td>\n",
       "      <td>Apple Crisp</td>\n",
       "      <td>30 mins</td>\n",
       "      <td>45 mins</td>\n",
       "      <td>1 hrs 15 mins</td>\n",
       "      <td>12</td>\n",
       "      <td>1 9x13-inch pan</td>\n",
       "      <td>10 cups all-purpose apples, peeled, cored and ...</td>\n",
       "      <td>Preheat the oven to 350 degrees F (175 degrees...</td>\n",
       "      <td>4.7</td>\n",
       "      <td>https://www.allrecipes.com/recipe/12409/apple-...</td>\n",
       "      <td>/Desserts/Crisps and Crumbles Recipes/Apple Cr...</td>\n",
       "      <td>Total Fat 8g 11%, Saturated Fat 5g 25%, Choles...</td>\n",
       "      <td>Prep Time: 30 mins, Cook Time: 45 mins, Total ...</td>\n",
       "      <td>https://www.allrecipes.com/thmb/uAzhPOh86PfR-N...</td>\n",
       "    </tr>\n",
       "    <tr>\n",
       "      <th>4</th>\n",
       "      <td>4</td>\n",
       "      <td>Apple Pie Filling</td>\n",
       "      <td>20 mins</td>\n",
       "      <td>20 mins</td>\n",
       "      <td>2 hrs 40 mins</td>\n",
       "      <td>40</td>\n",
       "      <td>5 9-inch pies</td>\n",
       "      <td>18 cups thinly sliced apples, 3 tablespoons le...</td>\n",
       "      <td>Toss apples with lemon juice in a large bowl a...</td>\n",
       "      <td>4.7</td>\n",
       "      <td>https://www.allrecipes.com/recipe/12681/apple-...</td>\n",
       "      <td>/Desserts/Pies/Apple Pie Recipes/</td>\n",
       "      <td>Total Fat 0g 0%, Sodium 61mg 3%, Total Carbohy...</td>\n",
       "      <td>Prep Time: 20 mins, Cook Time: 20 mins, Additi...</td>\n",
       "      <td>https://www.allrecipes.com/thmb/c0bbYaS1V_mTt_...</td>\n",
       "    </tr>\n",
       "  </tbody>\n",
       "</table>\n",
       "</div>"
      ],
      "text/plain": [
       "   Unnamed: 0                  recipe_name prep_time cook_time     total_time  \\\n",
       "0           0     Apple-Cranberry Crostada       NaN       NaN            NaN   \n",
       "1           1    Apple Pie by Grandma Ople   30 mins     1 hrs  1 hrs 30 mins   \n",
       "2           2  Sarah's Homemade Applesauce   10 mins   15 mins        25 mins   \n",
       "3           3                  Apple Crisp   30 mins   45 mins  1 hrs 15 mins   \n",
       "4           4            Apple Pie Filling   20 mins   20 mins  2 hrs 40 mins   \n",
       "\n",
       "   servings              yield  \\\n",
       "0         8  6 to 8 - servings   \n",
       "1         8       1 9-inch pie   \n",
       "2         4                NaN   \n",
       "3        12    1 9x13-inch pan   \n",
       "4        40      5 9-inch pies   \n",
       "\n",
       "                                         ingredients  \\\n",
       "0  3 tablespoons butter, 2 pounds Granny Smith ap...   \n",
       "1  8 small Granny Smith apples, or as needed, ½ c...   \n",
       "2  4  apples - peeled, cored and chopped, ¾ cup w...   \n",
       "3  10 cups all-purpose apples, peeled, cored and ...   \n",
       "4  18 cups thinly sliced apples, 3 tablespoons le...   \n",
       "\n",
       "                                          directions  rating  \\\n",
       "0  Heat butter in a large skillet over medium-hig...     4.4   \n",
       "1  Peel and core apples, then thinly slice. Set a...     4.8   \n",
       "2  Combine apples, water, sugar, and cinnamon in ...     4.8   \n",
       "3  Preheat the oven to 350 degrees F (175 degrees...     4.7   \n",
       "4  Toss apples with lemon juice in a large bowl a...     4.7   \n",
       "\n",
       "                                                 url  \\\n",
       "0  https://www.allrecipes.com/recipe/76931/apple-...   \n",
       "1  https://www.allrecipes.com/recipe/12682/apple-...   \n",
       "2  https://www.allrecipes.com/recipe/51301/sarahs...   \n",
       "3  https://www.allrecipes.com/recipe/12409/apple-...   \n",
       "4  https://www.allrecipes.com/recipe/12681/apple-...   \n",
       "\n",
       "                                        cuisine_path  \\\n",
       "0    /Desserts/Fruit Desserts/Apple Dessert Recipes/   \n",
       "1                  /Desserts/Pies/Apple Pie Recipes/   \n",
       "2                     /Side Dish/Applesauce Recipes/   \n",
       "3  /Desserts/Crisps and Crumbles Recipes/Apple Cr...   \n",
       "4                  /Desserts/Pies/Apple Pie Recipes/   \n",
       "\n",
       "                                           nutrition  \\\n",
       "0  Total Fat 18g 23%, Saturated Fat 7g 34%, Chole...   \n",
       "1  Total Fat 19g 24%, Saturated Fat 9g 46%, Chole...   \n",
       "2  Total Fat 0g 0%, Sodium 3mg 0%, Total Carbohyd...   \n",
       "3  Total Fat 8g 11%, Saturated Fat 5g 25%, Choles...   \n",
       "4  Total Fat 0g 0%, Sodium 61mg 3%, Total Carbohy...   \n",
       "\n",
       "                                              timing  \\\n",
       "0              Servings: 8, Yield: 6 to 8 - servings   \n",
       "1  Prep Time: 30 mins, Cook Time: 1 hrs, Total Ti...   \n",
       "2  Prep Time: 10 mins, Cook Time: 15 mins, Total ...   \n",
       "3  Prep Time: 30 mins, Cook Time: 45 mins, Total ...   \n",
       "4  Prep Time: 20 mins, Cook Time: 20 mins, Additi...   \n",
       "\n",
       "                                             img_src  \n",
       "0  https://www.allrecipes.com/thmb/Tf1wH73bfH6Oql...  \n",
       "1  https://www.allrecipes.com/thmb/1I95oiTGz6aEpu...  \n",
       "2  https://www.allrecipes.com/thmb/VY5d0tZHB8xz6y...  \n",
       "3  https://www.allrecipes.com/thmb/uAzhPOh86PfR-N...  \n",
       "4  https://www.allrecipes.com/thmb/c0bbYaS1V_mTt_...  "
      ]
     },
     "execution_count": 2,
     "metadata": {},
     "output_type": "execute_result"
    }
   ],
   "source": [
    "path = \"/home/kdts34/LLM/cuonghv/Recipe_Assistance/data/recipes.csv\" \n",
    "df = pd.read_csv(path)\n",
    "df.head()"
   ]
  },
  {
   "cell_type": "code",
   "execution_count": 3,
   "metadata": {},
   "outputs": [
    {
     "name": "stdout",
     "output_type": "stream",
     "text": [
      "<class 'pandas.core.frame.DataFrame'>\n",
      "RangeIndex: 1090 entries, 0 to 1089\n",
      "Data columns (total 15 columns):\n",
      " #   Column        Non-Null Count  Dtype  \n",
      "---  ------        --------------  -----  \n",
      " 0   Unnamed: 0    1090 non-null   int64  \n",
      " 1   recipe_name   1090 non-null   object \n",
      " 2   prep_time     1039 non-null   object \n",
      " 3   cook_time     782 non-null    object \n",
      " 4   total_time    1045 non-null   object \n",
      " 5   servings      1090 non-null   int64  \n",
      " 6   yield         879 non-null    object \n",
      " 7   ingredients   1090 non-null   object \n",
      " 8   directions    1090 non-null   object \n",
      " 9   rating        1090 non-null   float64\n",
      " 10  url           1090 non-null   object \n",
      " 11  cuisine_path  1090 non-null   object \n",
      " 12  nutrition     1090 non-null   object \n",
      " 13  timing        1090 non-null   object \n",
      " 14  img_src       1090 non-null   object \n",
      "dtypes: float64(1), int64(2), object(12)\n",
      "memory usage: 127.9+ KB\n"
     ]
    }
   ],
   "source": [
    "df.info()"
   ]
  },
  {
   "cell_type": "code",
   "execution_count": 4,
   "metadata": {},
   "outputs": [],
   "source": [
    "def preprocess_text(text):\n",
    "    \"\"\"\n",
    "    Clean text by removing leading/trailing whitespace, \n",
    "    Reducing multiple spaces and newlines.\n",
    "    \"\"\"\n",
    "    return re.sub(r' +', ' ', re.sub(r'\\n+', '\\n', text.strip()))\n",
    "\n",
    "def clean_dataframe(df):\n",
    "    \"\"\"Clean DataFrame by removing NaN rows and processing the 'directions' column.\"\"\"\n",
    "    df_cleaned = df.dropna().reset_index(drop=True)\n",
    "    df_cleaned['directions'] = df_cleaned['directions'].apply(preprocess_text)\n",
    "    return df_cleaned"
   ]
  },
  {
   "cell_type": "code",
   "execution_count": 5,
   "metadata": {},
   "outputs": [
    {
     "name": "stdout",
     "output_type": "stream",
     "text": [
      "<class 'pandas.core.frame.DataFrame'>\n",
      "RangeIndex: 631 entries, 0 to 630\n",
      "Data columns (total 15 columns):\n",
      " #   Column        Non-Null Count  Dtype  \n",
      "---  ------        --------------  -----  \n",
      " 0   Unnamed: 0    631 non-null    int64  \n",
      " 1   recipe_name   631 non-null    object \n",
      " 2   prep_time     631 non-null    object \n",
      " 3   cook_time     631 non-null    object \n",
      " 4   total_time    631 non-null    object \n",
      " 5   servings      631 non-null    int64  \n",
      " 6   yield         631 non-null    object \n",
      " 7   ingredients   631 non-null    object \n",
      " 8   directions    631 non-null    object \n",
      " 9   rating        631 non-null    float64\n",
      " 10  url           631 non-null    object \n",
      " 11  cuisine_path  631 non-null    object \n",
      " 12  nutrition     631 non-null    object \n",
      " 13  timing        631 non-null    object \n",
      " 14  img_src       631 non-null    object \n",
      "dtypes: float64(1), int64(2), object(12)\n",
      "memory usage: 74.1+ KB\n"
     ]
    }
   ],
   "source": [
    "# remove nan rows\n",
    "cleaned_data = clean_dataframe(df)\n",
    "cleaned_data.info()"
   ]
  },
  {
   "cell_type": "code",
   "execution_count": 6,
   "metadata": {},
   "outputs": [],
   "source": [
    "# Just collect 100 rows from cleaned data\n",
    "data = cleaned_data[:100]"
   ]
  },
  {
   "cell_type": "code",
   "execution_count": 7,
   "metadata": {},
   "outputs": [
    {
     "data": {
      "text/html": [
       "<div>\n",
       "<style scoped>\n",
       "    .dataframe tbody tr th:only-of-type {\n",
       "        vertical-align: middle;\n",
       "    }\n",
       "\n",
       "    .dataframe tbody tr th {\n",
       "        vertical-align: top;\n",
       "    }\n",
       "\n",
       "    .dataframe thead th {\n",
       "        text-align: right;\n",
       "    }\n",
       "</style>\n",
       "<table border=\"1\" class=\"dataframe\">\n",
       "  <thead>\n",
       "    <tr style=\"text-align: right;\">\n",
       "      <th></th>\n",
       "      <th>Unnamed: 0</th>\n",
       "      <th>recipe_name</th>\n",
       "      <th>prep_time</th>\n",
       "      <th>cook_time</th>\n",
       "      <th>total_time</th>\n",
       "      <th>servings</th>\n",
       "      <th>yield</th>\n",
       "      <th>ingredients</th>\n",
       "      <th>directions</th>\n",
       "      <th>rating</th>\n",
       "      <th>url</th>\n",
       "      <th>cuisine_path</th>\n",
       "      <th>nutrition</th>\n",
       "      <th>timing</th>\n",
       "      <th>img_src</th>\n",
       "    </tr>\n",
       "  </thead>\n",
       "  <tbody>\n",
       "    <tr>\n",
       "      <th>0</th>\n",
       "      <td>1</td>\n",
       "      <td>Apple Pie by Grandma Ople</td>\n",
       "      <td>30 mins</td>\n",
       "      <td>1 hrs</td>\n",
       "      <td>1 hrs 30 mins</td>\n",
       "      <td>8</td>\n",
       "      <td>1 9-inch pie</td>\n",
       "      <td>8 small Granny Smith apples, or as needed, ½ c...</td>\n",
       "      <td>Peel and core apples, then thinly slice. Set a...</td>\n",
       "      <td>4.8</td>\n",
       "      <td>https://www.allrecipes.com/recipe/12682/apple-...</td>\n",
       "      <td>/Desserts/Pies/Apple Pie Recipes/</td>\n",
       "      <td>Total Fat 19g 24%, Saturated Fat 9g 46%, Chole...</td>\n",
       "      <td>Prep Time: 30 mins, Cook Time: 1 hrs, Total Ti...</td>\n",
       "      <td>https://www.allrecipes.com/thmb/1I95oiTGz6aEpu...</td>\n",
       "    </tr>\n",
       "    <tr>\n",
       "      <th>1</th>\n",
       "      <td>3</td>\n",
       "      <td>Apple Crisp</td>\n",
       "      <td>30 mins</td>\n",
       "      <td>45 mins</td>\n",
       "      <td>1 hrs 15 mins</td>\n",
       "      <td>12</td>\n",
       "      <td>1 9x13-inch pan</td>\n",
       "      <td>10 cups all-purpose apples, peeled, cored and ...</td>\n",
       "      <td>Preheat the oven to 350 degrees F (175 degrees...</td>\n",
       "      <td>4.7</td>\n",
       "      <td>https://www.allrecipes.com/recipe/12409/apple-...</td>\n",
       "      <td>/Desserts/Crisps and Crumbles Recipes/Apple Cr...</td>\n",
       "      <td>Total Fat 8g 11%, Saturated Fat 5g 25%, Choles...</td>\n",
       "      <td>Prep Time: 30 mins, Cook Time: 45 mins, Total ...</td>\n",
       "      <td>https://www.allrecipes.com/thmb/uAzhPOh86PfR-N...</td>\n",
       "    </tr>\n",
       "    <tr>\n",
       "      <th>2</th>\n",
       "      <td>4</td>\n",
       "      <td>Apple Pie Filling</td>\n",
       "      <td>20 mins</td>\n",
       "      <td>20 mins</td>\n",
       "      <td>2 hrs 40 mins</td>\n",
       "      <td>40</td>\n",
       "      <td>5 9-inch pies</td>\n",
       "      <td>18 cups thinly sliced apples, 3 tablespoons le...</td>\n",
       "      <td>Toss apples with lemon juice in a large bowl a...</td>\n",
       "      <td>4.7</td>\n",
       "      <td>https://www.allrecipes.com/recipe/12681/apple-...</td>\n",
       "      <td>/Desserts/Pies/Apple Pie Recipes/</td>\n",
       "      <td>Total Fat 0g 0%, Sodium 61mg 3%, Total Carbohy...</td>\n",
       "      <td>Prep Time: 20 mins, Cook Time: 20 mins, Additi...</td>\n",
       "      <td>https://www.allrecipes.com/thmb/c0bbYaS1V_mTt_...</td>\n",
       "    </tr>\n",
       "    <tr>\n",
       "      <th>3</th>\n",
       "      <td>7</td>\n",
       "      <td>Apple-Cranberry Crisp</td>\n",
       "      <td>25 mins</td>\n",
       "      <td>40 mins</td>\n",
       "      <td>1 hrs 5 mins</td>\n",
       "      <td>8</td>\n",
       "      <td>1 8-inch crisp</td>\n",
       "      <td>2 pounds Granny Smith apples - peeled, cored a...</td>\n",
       "      <td>Preheat the oven to 375 degrees F (190 degrees...</td>\n",
       "      <td>4.6</td>\n",
       "      <td>https://www.allrecipes.com/recipe/41893/apple-...</td>\n",
       "      <td>/Desserts/Crisps and Crumbles Recipes/</td>\n",
       "      <td>Total Fat 12g 15%, Saturated Fat 4g 22%, Chole...</td>\n",
       "      <td>Prep Time: 25 mins, Cook Time: 40 mins, Total ...</td>\n",
       "      <td>https://www.allrecipes.com/thmb/MjDDFmBWiEx9f1...</td>\n",
       "    </tr>\n",
       "    <tr>\n",
       "      <th>4</th>\n",
       "      <td>10</td>\n",
       "      <td>Apple Turnovers</td>\n",
       "      <td>30 mins</td>\n",
       "      <td>25 mins</td>\n",
       "      <td>55 mins</td>\n",
       "      <td>8</td>\n",
       "      <td>8 turnovers</td>\n",
       "      <td>2 tablespoons lemon juice, 4 cups water, 4  Gr...</td>\n",
       "      <td>Combine the lemon and 4 cups water in a large ...</td>\n",
       "      <td>4.6</td>\n",
       "      <td>https://www.allrecipes.com/recipe/59124/apple-...</td>\n",
       "      <td>/Desserts/Fruit Desserts/Apple Dessert Recipes/</td>\n",
       "      <td>Total Fat 26g 33%, Saturated Fat 8g 39%, Chole...</td>\n",
       "      <td>Prep Time: 30 mins, Cook Time: 25 mins, Total ...</td>\n",
       "      <td>https://www.allrecipes.com/thmb/6EpK8eOrDHd4MM...</td>\n",
       "    </tr>\n",
       "  </tbody>\n",
       "</table>\n",
       "</div>"
      ],
      "text/plain": [
       "   Unnamed: 0                recipe_name prep_time cook_time     total_time  \\\n",
       "0           1  Apple Pie by Grandma Ople   30 mins     1 hrs  1 hrs 30 mins   \n",
       "1           3                Apple Crisp   30 mins   45 mins  1 hrs 15 mins   \n",
       "2           4          Apple Pie Filling   20 mins   20 mins  2 hrs 40 mins   \n",
       "3           7      Apple-Cranberry Crisp   25 mins   40 mins   1 hrs 5 mins   \n",
       "4          10            Apple Turnovers   30 mins   25 mins        55 mins   \n",
       "\n",
       "   servings            yield  \\\n",
       "0         8     1 9-inch pie   \n",
       "1        12  1 9x13-inch pan   \n",
       "2        40    5 9-inch pies   \n",
       "3         8   1 8-inch crisp   \n",
       "4         8      8 turnovers   \n",
       "\n",
       "                                         ingredients  \\\n",
       "0  8 small Granny Smith apples, or as needed, ½ c...   \n",
       "1  10 cups all-purpose apples, peeled, cored and ...   \n",
       "2  18 cups thinly sliced apples, 3 tablespoons le...   \n",
       "3  2 pounds Granny Smith apples - peeled, cored a...   \n",
       "4  2 tablespoons lemon juice, 4 cups water, 4  Gr...   \n",
       "\n",
       "                                          directions  rating  \\\n",
       "0  Peel and core apples, then thinly slice. Set a...     4.8   \n",
       "1  Preheat the oven to 350 degrees F (175 degrees...     4.7   \n",
       "2  Toss apples with lemon juice in a large bowl a...     4.7   \n",
       "3  Preheat the oven to 375 degrees F (190 degrees...     4.6   \n",
       "4  Combine the lemon and 4 cups water in a large ...     4.6   \n",
       "\n",
       "                                                 url  \\\n",
       "0  https://www.allrecipes.com/recipe/12682/apple-...   \n",
       "1  https://www.allrecipes.com/recipe/12409/apple-...   \n",
       "2  https://www.allrecipes.com/recipe/12681/apple-...   \n",
       "3  https://www.allrecipes.com/recipe/41893/apple-...   \n",
       "4  https://www.allrecipes.com/recipe/59124/apple-...   \n",
       "\n",
       "                                        cuisine_path  \\\n",
       "0                  /Desserts/Pies/Apple Pie Recipes/   \n",
       "1  /Desserts/Crisps and Crumbles Recipes/Apple Cr...   \n",
       "2                  /Desserts/Pies/Apple Pie Recipes/   \n",
       "3             /Desserts/Crisps and Crumbles Recipes/   \n",
       "4    /Desserts/Fruit Desserts/Apple Dessert Recipes/   \n",
       "\n",
       "                                           nutrition  \\\n",
       "0  Total Fat 19g 24%, Saturated Fat 9g 46%, Chole...   \n",
       "1  Total Fat 8g 11%, Saturated Fat 5g 25%, Choles...   \n",
       "2  Total Fat 0g 0%, Sodium 61mg 3%, Total Carbohy...   \n",
       "3  Total Fat 12g 15%, Saturated Fat 4g 22%, Chole...   \n",
       "4  Total Fat 26g 33%, Saturated Fat 8g 39%, Chole...   \n",
       "\n",
       "                                              timing  \\\n",
       "0  Prep Time: 30 mins, Cook Time: 1 hrs, Total Ti...   \n",
       "1  Prep Time: 30 mins, Cook Time: 45 mins, Total ...   \n",
       "2  Prep Time: 20 mins, Cook Time: 20 mins, Additi...   \n",
       "3  Prep Time: 25 mins, Cook Time: 40 mins, Total ...   \n",
       "4  Prep Time: 30 mins, Cook Time: 25 mins, Total ...   \n",
       "\n",
       "                                             img_src  \n",
       "0  https://www.allrecipes.com/thmb/1I95oiTGz6aEpu...  \n",
       "1  https://www.allrecipes.com/thmb/uAzhPOh86PfR-N...  \n",
       "2  https://www.allrecipes.com/thmb/c0bbYaS1V_mTt_...  \n",
       "3  https://www.allrecipes.com/thmb/MjDDFmBWiEx9f1...  \n",
       "4  https://www.allrecipes.com/thmb/6EpK8eOrDHd4MM...  "
      ]
     },
     "execution_count": 7,
     "metadata": {},
     "output_type": "execute_result"
    }
   ],
   "source": [
    "data.head()"
   ]
  },
  {
   "cell_type": "code",
   "execution_count": 8,
   "metadata": {},
   "outputs": [
    {
     "name": "stdout",
     "output_type": "stream",
     "text": [
      "Peel and core apples, then thinly slice. Set aside.\n",
      "Preheat the oven to 425 degrees F (220 degrees C).\n",
      "Melt butter in a saucepan over medium heat. Add flour and stir to form a paste; cook until fragrant, about 1 to 2 minutes. Add both sugars and water; bring to a boil. Reduce the heat to low and simmer for 3 to 5 minutes. Remove from the heat.\n",
      "Press one pastry into the bottom and up the sides of a 9-inch pie pan. Roll out remaining pastry so it will overhang the pie by about 1/2 inch. Cut pastry into eight 1-inch strips.\n",
      "Place sliced apples into the bottom crust, forming a slight mound. Lay four pastry strips vertically and evenly spaced over apples, using longer strips in the center and shorter strips at the edges.\n",
      "Make a lattice crust: Fold the first and third strips all the way back so they're almost falling off the pie. Lay one of the unused strips perpendicularly over the second and fourth strips, then unfold the first and third strips back into their original position.\n",
      "Fold the second and fourth vertical strips back. Lay one of the three unused strips perpendicularly over top. Unfold the second and fourth strips back into their original position.\n",
      "Repeat Steps 6 and 7 to weave in the last two strips of pastry. Fold and trim excess dough at the edges as necessary, and pinch to secure.\n",
      "Slowly and gently pour sugar-butter mixture over lattice crust, making sure it seeps over sliced apples. Brush some onto lattice, but make sure it doesn't run off the sides.\n",
      "Bake in the preheated oven for 15 minutes. Reduce the temperature to 350 degrees F (175 degrees C) and continue baking until apples are soft, 35 to 45 minutes.\n",
      "Natalie T\n"
     ]
    }
   ],
   "source": [
    "print(data['directions'][0])"
   ]
  },
  {
   "cell_type": "code",
   "execution_count": 9,
   "metadata": {},
   "outputs": [
    {
     "name": "stdout",
     "output_type": "stream",
     "text": [
      "0: \n",
      " recipe_name: Apple Pie by Grandma Ople \n",
      " directions: Peel and core apples, then thinly slice. Set aside.\n",
      "Preheat the oven to 425 degrees F (220 degrees C).\n",
      "Melt butter in a saucepan over medium heat. Add flour and stir to form a paste; cook until fragrant, about 1 to 2 minutes. Add both sugars and water; bring to a boil. Reduce the heat to low and simmer for 3 to 5 minutes. Remove from the heat.\n",
      "Press one pastry into the bottom and up the sides of a 9-inch pie pan. Roll out remaining pastry so it will overhang the pie by about 1/2 inch. Cut pastry into eight 1-inch strips.\n",
      "Place sliced apples into the bottom crust, forming a slight mound. Lay four pastry strips vertically and evenly spaced over apples, using longer strips in the center and shorter strips at the edges.\n",
      "Make a lattice crust: Fold the first and third strips all the way back so they're almost falling off the pie. Lay one of the unused strips perpendicularly over the second and fourth strips, then unfold the first and third strips back into their original position.\n",
      "Fold the second and fourth vertical strips back. Lay one of the three unused strips perpendicularly over top. Unfold the second and fourth strips back into their original position.\n",
      "Repeat Steps 6 and 7 to weave in the last two strips of pastry. Fold and trim excess dough at the edges as necessary, and pinch to secure.\n",
      "Slowly and gently pour sugar-butter mixture over lattice crust, making sure it seeps over sliced apples. Brush some onto lattice, but make sure it doesn't run off the sides.\n",
      "Bake in the preheated oven for 15 minutes. Reduce the temperature to 350 degrees F (175 degrees C) and continue baking until apples are soft, 35 to 45 minutes.\n",
      "Natalie T \n",
      " prep_time: 30 mins \n",
      " cook_time: 1 hrs \n",
      " servings: 8 \n",
      " ingredients: 8 small Granny Smith apples, or as needed, ½ cup unsalted butter, 3 tablespoons all-purpose flour, ½ cup white sugar, ½ cup packed brown sugar, ¼ cup water, 1 (9 inch) double-crust pie pastry, thawed\n",
      "1: \n",
      " recipe_name: Apple Crisp \n",
      " directions: Preheat the oven to 350 degrees F (175 degrees C).\n",
      "Place sliced apples in a 9x13-inch baking dish. Mix white sugar, 1 tablespoon flour, and cinnamon together; sprinkle over apples. Pour water evenly over apples.\n",
      "Combine oats, 1 cup flour, brown sugar, baking powder, and baking soda in a large bowl. Add melted butter and mix with a fork until crumbly; sprinkle evenly over apple mixture.\n",
      "Bake in the preheated oven until top is golden brown and apples are bubbling around the edges, about 45 minutes.\n",
      "Dotdash Meredith Food Studios \n",
      " prep_time: 30 mins \n",
      " cook_time: 45 mins \n",
      " servings: 12 \n",
      " ingredients: 10 cups all-purpose apples, peeled, cored and sliced, 1 cup white sugar, 1 tablespoon all-purpose flour, 1 teaspoon ground cinnamon, ½ cup water, 1 cup quick-cooking oats, 1 cup all-purpose flour, 1 cup packed brown sugar, ¼ teaspoon baking powder, ¼ teaspoon baking soda, ½ cup butter, melted\n",
      "2: \n",
      " recipe_name: Apple Pie Filling \n",
      " directions: Toss apples with lemon juice in a large bowl and set aside.\n",
      "Pour water into a Dutch oven over medium heat. Combine sugar, cornstarch, cinnamon, salt, and nutmeg in a bowl; add to water, stir well, and bring to a boil. Boil for 2 minutes, stirring constantly.\n",
      "Add apples and return to a boil. Reduce heat, cover, and simmer until apples are tender, 6 to 8 minutes. Cool for 30 minutes.\n",
      "Ladle into 5 freezer containers, leaving 1/2 inch of headspace. Cool at room temperature no longer than 1 1/2 hours.\n",
      "Seal and freeze. Can be stored for up to 12 months.\n",
      "Dotdash Meredith Food Studios \n",
      " prep_time: 20 mins \n",
      " cook_time: 20 mins \n",
      " servings: 40 \n",
      " ingredients: 18 cups thinly sliced apples, 3 tablespoons lemon juice, 10 cups water, 4 ½ cups white sugar, 1 cup cornstarch, 2 teaspoons ground cinnamon, 1 teaspoon salt, ¼ teaspoon ground nutmeg\n",
      "3: \n",
      " recipe_name: Apple-Cranberry Crisp \n",
      " directions: Preheat the oven to 375 degrees F (190 degrees C.) Butter an 8-inch square baking dish.\n",
      "Mix apples, cranberries, white sugar, cinnamon, and nutmeg in a large bowl. Place in an even layer in the prepared baking dish.\n",
      "In the same bowl, combine oats, flour, and brown sugar for topping. Add butter pieces and mix with a fork until crumbly. Stir in pecans. Sprinkle topping over apples in the baking dish.\n",
      "Bake in the preheated oven until apples are tender and topping is golden brown, 40 to 50 minutes. \n",
      " prep_time: 25 mins \n",
      " cook_time: 40 mins \n",
      " servings: 8 \n",
      " ingredients: 2 pounds Granny Smith apples - peeled, cored and thinly sliced, ¾ cup cranberries, ¼ cup white sugar, 1 tablespoon ground cinnamon, 1 teaspoon ground nutmeg\n"
     ]
    }
   ],
   "source": [
    "# Testing function creating the processed data\n",
    "for i, row in data.iterrows():\n",
    "    context_columns = ['recipe_name', 'directions', 'prep_time', 'cook_time', 'servings', 'ingredients']\n",
    "    # recipe_info = f\"\\n recipe_name: {row['recipe_name']} \\n directions: {row['directions']} \\n prep_time: {row['prep_time']} \\n cook_time: {row['cook_time']} servings: {row['servings']} \\n ingredients: {row['ingredients']}\"\n",
    "    context = [f'\\n {column}: {row[column]}' for column in context_columns]\n",
    "    recipe_info = \" \".join(context)\n",
    "    print(f'{i}: {recipe_info}')\n",
    "    if i == 3:\n",
    "        break "
   ]
  },
  {
   "cell_type": "code",
   "execution_count": 10,
   "metadata": {},
   "outputs": [
    {
     "data": {
      "text/html": [
       "<div>\n",
       "<style scoped>\n",
       "    .dataframe tbody tr th:only-of-type {\n",
       "        vertical-align: middle;\n",
       "    }\n",
       "\n",
       "    .dataframe tbody tr th {\n",
       "        vertical-align: top;\n",
       "    }\n",
       "\n",
       "    .dataframe thead th {\n",
       "        text-align: right;\n",
       "    }\n",
       "</style>\n",
       "<table border=\"1\" class=\"dataframe\">\n",
       "  <thead>\n",
       "    <tr style=\"text-align: right;\">\n",
       "      <th></th>\n",
       "      <th>Document</th>\n",
       "      <th>Url</th>\n",
       "      <th>Text_Length</th>\n",
       "    </tr>\n",
       "  </thead>\n",
       "  <tbody>\n",
       "    <tr>\n",
       "      <th>0</th>\n",
       "      <td>\\n recipe_name: Apple Pie by Grandma Ople \\n d...</td>\n",
       "      <td>https://www.allrecipes.com/recipe/12682/apple-...</td>\n",
       "      <td>346</td>\n",
       "    </tr>\n",
       "    <tr>\n",
       "      <th>1</th>\n",
       "      <td>\\n recipe_name: Apple Crisp \\n directions: Pre...</td>\n",
       "      <td>https://www.allrecipes.com/recipe/12409/apple-...</td>\n",
       "      <td>153</td>\n",
       "    </tr>\n",
       "    <tr>\n",
       "      <th>2</th>\n",
       "      <td>\\n recipe_name: Apple Pie Filling \\n direction...</td>\n",
       "      <td>https://www.allrecipes.com/recipe/12681/apple-...</td>\n",
       "      <td>152</td>\n",
       "    </tr>\n",
       "    <tr>\n",
       "      <th>3</th>\n",
       "      <td>\\n recipe_name: Apple-Cranberry Crisp \\n direc...</td>\n",
       "      <td>https://www.allrecipes.com/recipe/41893/apple-...</td>\n",
       "      <td>131</td>\n",
       "    </tr>\n",
       "    <tr>\n",
       "      <th>4</th>\n",
       "      <td>\\n recipe_name: Apple Turnovers \\n directions:...</td>\n",
       "      <td>https://www.allrecipes.com/recipe/59124/apple-...</td>\n",
       "      <td>288</td>\n",
       "    </tr>\n",
       "  </tbody>\n",
       "</table>\n",
       "</div>"
      ],
      "text/plain": [
       "                                            Document  \\\n",
       "0  \\n recipe_name: Apple Pie by Grandma Ople \\n d...   \n",
       "1  \\n recipe_name: Apple Crisp \\n directions: Pre...   \n",
       "2  \\n recipe_name: Apple Pie Filling \\n direction...   \n",
       "3  \\n recipe_name: Apple-Cranberry Crisp \\n direc...   \n",
       "4  \\n recipe_name: Apple Turnovers \\n directions:...   \n",
       "\n",
       "                                                 Url  Text_Length  \n",
       "0  https://www.allrecipes.com/recipe/12682/apple-...          346  \n",
       "1  https://www.allrecipes.com/recipe/12409/apple-...          153  \n",
       "2  https://www.allrecipes.com/recipe/12681/apple-...          152  \n",
       "3  https://www.allrecipes.com/recipe/41893/apple-...          131  \n",
       "4  https://www.allrecipes.com/recipe/59124/apple-...          288  "
      ]
     },
     "execution_count": 10,
     "metadata": {},
     "output_type": "execute_result"
    }
   ],
   "source": [
    "# Creating processed data\n",
    "processed_data = pd.DataFrame([])\n",
    "documents = []\n",
    "for i, row in data.iterrows():\n",
    "    context_columns = ['recipe_name', 'directions', 'prep_time', 'cook_time', 'servings', 'ingredients']\n",
    "    context = [f'\\n {column}: {row[column]}' for column in context_columns]\n",
    "    recipe_info = \" \".join(context)\n",
    "    documents.append(recipe_info)\n",
    "processed_data['Document'] = documents\n",
    "processed_data['Url'] = data['url']\n",
    "processed_data['Text_Length'] = processed_data['Document'].apply(lambda x: len(x.split(' ')))\n",
    "processed_data.head()"
   ]
  },
  {
   "cell_type": "code",
   "execution_count": 11,
   "metadata": {},
   "outputs": [
    {
     "name": "stdout",
     "output_type": "stream",
     "text": [
      "\n",
      " recipe_name: Apple Pie by Grandma Ople \n",
      " directions: Peel and core apples, then thinly slice. Set aside.\n",
      "Preheat the oven to 425 degrees F (220 degrees C).\n",
      "Melt butter in a saucepan over medium heat. Add flour and stir to form a paste; cook until fragrant, about 1 to 2 minutes. Add both sugars and water; bring to a boil. Reduce the heat to low and simmer for 3 to 5 minutes. Remove from the heat.\n",
      "Press one pastry into the bottom and up the sides of a 9-inch pie pan. Roll out remaining pastry so it will overhang the pie by about 1/2 inch. Cut pastry into eight 1-inch strips.\n",
      "Place sliced apples into the bottom crust, forming a slight mound. Lay four pastry strips vertically and evenly spaced over apples, using longer strips in the center and shorter strips at the edges.\n",
      "Make a lattice crust: Fold the first and third strips all the way back so they're almost falling off the pie. Lay one of the unused strips perpendicularly over the second and fourth strips, then unfold the first and third strips back into their original position.\n",
      "Fold the second and fourth vertical strips back. Lay one of the three unused strips perpendicularly over top. Unfold the second and fourth strips back into their original position.\n",
      "Repeat Steps 6 and 7 to weave in the last two strips of pastry. Fold and trim excess dough at the edges as necessary, and pinch to secure.\n",
      "Slowly and gently pour sugar-butter mixture over lattice crust, making sure it seeps over sliced apples. Brush some onto lattice, but make sure it doesn't run off the sides.\n",
      "Bake in the preheated oven for 15 minutes. Reduce the temperature to 350 degrees F (175 degrees C) and continue baking until apples are soft, 35 to 45 minutes.\n",
      "Natalie T \n",
      " prep_time: 30 mins \n",
      " cook_time: 1 hrs \n",
      " servings: 8 \n",
      " ingredients: 8 small Granny Smith apples, or as needed, ½ cup unsalted butter, 3 tablespoons all-purpose flour, ½ cup white sugar, ½ cup packed brown sugar, ¼ cup water, 1 (9 inch) double-crust pie pastry, thawed\n"
     ]
    }
   ],
   "source": [
    "print(processed_data['Document'][0])"
   ]
  },
  {
   "cell_type": "code",
   "execution_count": 12,
   "metadata": {},
   "outputs": [
    {
     "name": "stdout",
     "output_type": "stream",
     "text": [
      "<class 'pandas.core.frame.DataFrame'>\n",
      "RangeIndex: 100 entries, 0 to 99\n",
      "Data columns (total 3 columns):\n",
      " #   Column       Non-Null Count  Dtype \n",
      "---  ------       --------------  ----- \n",
      " 0   Document     100 non-null    object\n",
      " 1   Url          100 non-null    object\n",
      " 2   Text_Length  100 non-null    int64 \n",
      "dtypes: int64(1), object(2)\n",
      "memory usage: 2.5+ KB\n"
     ]
    }
   ],
   "source": [
    "processed_data.info()"
   ]
  },
  {
   "cell_type": "code",
   "execution_count": 13,
   "metadata": {},
   "outputs": [
    {
     "data": {
      "text/plain": [
       "94"
      ]
     },
     "execution_count": 13,
     "metadata": {},
     "output_type": "execute_result"
    }
   ],
   "source": [
    "processed_data['Text_Length'].min()"
   ]
  },
  {
   "cell_type": "code",
   "execution_count": 14,
   "metadata": {},
   "outputs": [
    {
     "data": {
      "text/plain": [
       "451"
      ]
     },
     "execution_count": 14,
     "metadata": {},
     "output_type": "execute_result"
    }
   ],
   "source": [
    "processed_data['Text_Length'].max()"
   ]
  },
  {
   "cell_type": "code",
   "execution_count": 15,
   "metadata": {},
   "outputs": [
    {
     "name": "stdout",
     "output_type": "stream",
     "text": [
      "\n",
      " recipe_name: Thirty Day Friendship Cake \n",
      " directions: Day One: In a large glass jar or bowl, combine 2 cups of the starter with 1 can of the sliced peaches and their juice (each slice chopped into 4 pieces). Add 2 1/2 cups of the white sugar and stir once every day for 10 days. When not stirring mixture, keep it covered with a paper towel, foil, or a loose lid. Let sit at room temperature. Don't refrigerate it or cover it airtight. A pan of water underneath the jar or bowl will keep the ants out.\n",
      "Day Ten: Add 1 can of chunk pineapple and its juice. Cut each chunk of pineapple in half. Stir in 1/2 cup of white sugar. Stir once everyday for 10 days. The color should change, and the mixture should foam when stirred.\n",
      "Day Twenty: Slice each cherry in half, and stir in. Add 2 1/2 cups of the white sugar. Stir once every day for the final 10 days. The cherries will give the juice back its pinkish color.\n",
      "Day Thirty: Drain fruit and reserve it and the liquid. The fruit will be used in the cake. Pour the liquid into 3 glass or ceramic pint jars. One for you to start your next cake, and two for friends. Cake must be started within 3 days after receiving the starter, or you should freeze the starter to use at a later date. Do not use plastic or metal containers to store liquid!\n",
      "Preheat oven to 325 degrees F (165 degrees C). Grease and flour two 9x13-inch baking pans.\n",
      "It's best to mix the two cakes separately. Combine 1 box of the cake mix, 1 box of the instant vanilla pudding, 2/3 cup of the vegetable oil, and 4 of the eggs. Stir, then add 1/2 of the drained reserved fruit from the starter. Stir, then add 1 cup of the golden raisins, 1 cup of the chopped nuts and 1 cup of the coconut. Stir until all ingredients are combined. The batter will be stiff. Pour batter into the prepared cake pan. Repeat for cake number two.\n",
      "Bake cakes at in the preheated oven for 55 to 65 minutes. \n",
      " prep_time: 1 hrs \n",
      " cook_time: 1 hrs \n",
      " servings: 48 \n",
      " ingredients:   2 cups Friendship Fruit Starter, 1 (15 ounce) can sliced peaches with juice, 2 ½ cups white sugar, 1 (15 ounce) can pineapple chunks with juice, ½ cup white sugar, 2 (10 ounce) jars maraschino cherries, 2 ½ cups white sugar, 2 (18.25 ounce) packages yellow cake mix, 2 (3.4 ounce) packages instant vanilla pudding mix, 1 ⅓ cups vegetable oil, 8  eggs, 2 cups golden raisins, 2 cups chopped walnuts, 2 cups flaked coconut\n"
     ]
    }
   ],
   "source": [
    "max_index = processed_data['Text_Length'].idxmax()\n",
    "print(processed_data['Document'][max_index])"
   ]
  },
  {
   "cell_type": "code",
   "execution_count": 16,
   "metadata": {},
   "outputs": [
    {
     "data": {
      "text/plain": [
       "Text(0, 0.5, 'Frequency')"
      ]
     },
     "execution_count": 16,
     "metadata": {},
     "output_type": "execute_result"
    },
    {
     "data": {
      "image/png": "[encoded data removed]",
      "text/plain": [
       "<Figure size 640x480 with 1 Axes>"
      ]
     },
     "metadata": {},
     "output_type": "display_data"
    }
   ],
   "source": [
    "## Plot dist of text_length\n",
    "ax = processed_data['Text_Length'].plot(kind='hist', bins=40, title='Distribution of Text Length')\n",
    "ax.set_xlabel('Text Length')\n",
    "ax.set_ylabel('Frequency')"
   ]
  },
  {
   "cell_type": "code",
   "execution_count": 17,
   "metadata": {},
   "outputs": [],
   "source": [
    "processed_data.to_excel('processed_recipe.xlsx')"
   ]
  },
  {
   "cell_type": "markdown",
   "metadata": {},
   "source": [
    "# Chunking and Embedding"
   ]
  },
  {
   "cell_type": "code",
   "execution_count": 18,
   "metadata": {},
   "outputs": [],
   "source": [
    "def chunking(method: str):\n",
    "    \"\"\"return TextSplitter with one chunking method\"\"\"\n",
    "    if method == 'RecursiveCharacterTextSplitter':\n",
    "        return RecursiveCharacterTextSplitter(\n",
    "            # Set a really small chunk size, just to show.\n",
    "            chunk_size=1000,\n",
    "            chunk_overlap=200,\n",
    "            length_function=len,\n",
    "        )\n",
    "    elif method == 'CharacterTextSplitter':\n",
    "        return CharacterTextSplitter(\n",
    "            separator=\" \",\n",
    "            chunk_size=1000,\n",
    "            chunk_overlap=200,\n",
    "            length_function=len,\n",
    "            is_separator_regex=False,\n",
    "        )\n",
    "def get_embed_model_openAI(\n",
    "    embedding_model: Any = OpenAIEmbeddings,\n",
    "    embedding_model_params: Optional[Dict[str, Any]] = {'openai_api_key': os.environ.get(\n",
    "            'OPENAI_API_KEY'), \"model\": \"text-embedding-3-small\", 'show_progress_bar': True},\n",
    ") -> Any:\n",
    "    return embedding_model(**embedding_model_params)\n",
    "def import_data_to_db(vectorstore, meta_data, page_content, tenant_name='Admin', index_name=None):\n",
    "    # [ RecursiveCharacterTextSplitter, CharacterTextSplitter]\n",
    "    text_splitter = chunking(method='RecursiveCharacterTextSplitter')\n",
    "    embed_model = get_embed_model_openAI()\n",
    "    doc = Document(\n",
    "        metadata=meta_data,\n",
    "        page_content=page_content,\n",
    "    )\n",
    "    documents = text_splitter.create_documents(\n",
    "        [doc.page_content], metadatas=[doc.metadata]\n",
    "    )\n",
    "    if index_name is not None:\n",
    "        db =  vectorstore.load_document_to_vectordb(\n",
    "            documents = documents,\n",
    "            index_name= index_name,\n",
    "            text_key='text',\n",
    "            embedding= embed_model, \n",
    "            tenant_name = tenant_name\n",
    "            )\n",
    "        \n",
    "    else:\n",
    "        db =  vectorstore.load_document_to_vectordb(\n",
    "            documents = documents, \n",
    "            embedding= embed_model, \n",
    "            tenant_name = tenant_name\n",
    "            )\n",
    "    return db._index_name, db._text_key, documents"
   ]
  },
  {
   "cell_type": "code",
   "execution_count": 19,
   "metadata": {},
   "outputs": [
    {
     "name": "stdout",
     "output_type": "stream",
     "text": [
      "Recipe_4901db92124f4ad4a22a18f5368603cb\n"
     ]
    }
   ],
   "source": [
    "# init vectorstore\n",
    "vectorstore = weaviatedb.WeaviateDB()\n",
    "# create index \n",
    "index = f'Recipe_{uuid.uuid4().hex}' \n",
    "print(index)"
   ]
  },
  {
   "cell_type": "code",
   "execution_count": 20,
   "metadata": {},
   "outputs": [
    {
     "name": "stderr",
     "output_type": "stream",
     "text": [
      "  0%|          | 0/100 [00:00<?, ?it/s]2024-Sep-24 09:12 AM - langchain_weaviate.vectorstores - INFO - Tenant Recipe does not exist in index Recipe_4901db92124f4ad4a22a18f5368603cb. Creating tenant.\n",
      "100%|██████████| 1/1 [00:00<00:00,  1.36it/s]\n",
      "100%|██████████| 1/1 [00:00<00:00,  2.19it/s]t]\n",
      "100%|██████████| 1/1 [00:00<00:00,  1.07it/s]s]\n",
      "100%|██████████| 1/1 [00:00<00:00,  1.20it/s]s]\n",
      "100%|██████████| 1/1 [00:00<00:00,  1.59it/s]s]\n",
      "100%|██████████| 1/1 [00:00<00:00,  2.25it/s]s]\n",
      "100%|██████████| 1/1 [00:00<00:00,  1.54it/s]s]\n",
      "100%|██████████| 1/1 [00:00<00:00,  2.15it/s]s]\n",
      "100%|██████████| 1/1 [00:00<00:00,  1.94it/s]s]\n",
      "100%|██████████| 1/1 [00:00<00:00,  1.54it/s]s]\n",
      "100%|██████████| 1/1 [00:00<00:00,  1.42it/s]/s]\n",
      "100%|██████████| 1/1 [00:00<00:00,  1.48it/s]/s]\n",
      "100%|██████████| 1/1 [00:00<00:00,  1.80it/s]/s]\n",
      "100%|██████████| 1/1 [00:00<00:00,  1.15it/s]/s]\n",
      "100%|██████████| 1/1 [00:00<00:00,  1.13it/s]/s]\n",
      "100%|██████████| 1/1 [00:00<00:00,  1.55it/s]/s]\n",
      "100%|██████████| 1/1 [00:00<00:00,  1.46it/s]/s]\n",
      "100%|██████████| 1/1 [00:00<00:00,  1.35it/s]/s]\n",
      "100%|██████████| 1/1 [00:00<00:00,  1.89it/s]/s]\n",
      "100%|██████████| 1/1 [00:00<00:00,  1.35it/s]/s]\n",
      "100%|██████████| 1/1 [00:00<00:00,  1.44it/s]/s]\n",
      "100%|██████████| 1/1 [00:00<00:00,  2.20it/s]/s]\n",
      "100%|██████████| 1/1 [00:00<00:00,  1.69it/s]/s]\n",
      "100%|██████████| 1/1 [00:00<00:00,  1.90it/s]/s]\n",
      "100%|██████████| 1/1 [00:00<00:00,  1.60it/s]/s]\n",
      "100%|██████████| 1/1 [00:00<00:00,  1.37it/s]/s]\n",
      "100%|██████████| 1/1 [00:00<00:00,  1.87it/s]/s]\n",
      "100%|██████████| 1/1 [00:00<00:00,  1.99it/s]/s]\n",
      "100%|██████████| 1/1 [00:00<00:00,  1.40it/s]/s]\n",
      "100%|██████████| 1/1 [00:00<00:00,  1.91it/s]/s]\n",
      "100%|██████████| 1/1 [00:00<00:00,  2.44it/s]/s]\n",
      "100%|██████████| 1/1 [00:00<00:00,  1.49it/s]/s]\n",
      "100%|██████████| 1/1 [00:00<00:00,  1.17it/s]/s]\n",
      "100%|██████████| 1/1 [00:00<00:00,  1.15it/s]/s]\n",
      "100%|██████████| 1/1 [00:00<00:00,  2.25it/s]/s]\n",
      "100%|██████████| 1/1 [00:00<00:00,  2.21it/s]/s]\n",
      "100%|██████████| 1/1 [00:01<00:00,  1.05s/it]/s]\n",
      "100%|██████████| 1/1 [00:00<00:00,  1.66it/s]/s]\n",
      "100%|██████████| 1/1 [00:00<00:00,  1.47it/s]/s]\n",
      "100%|██████████| 1/1 [00:00<00:00,  2.10it/s]/s]\n",
      "100%|██████████| 1/1 [00:00<00:00,  1.61it/s]/s]\n",
      "100%|██████████| 1/1 [00:00<00:00,  1.17it/s]/s]\n",
      "100%|██████████| 1/1 [00:00<00:00,  1.78it/s]/s]\n",
      "100%|██████████| 1/1 [00:00<00:00,  1.96it/s]/s]\n",
      "100%|██████████| 1/1 [00:00<00:00,  2.15it/s]/s]\n",
      "100%|██████████| 1/1 [00:00<00:00,  2.06it/s]/s]\n",
      "100%|██████████| 1/1 [00:00<00:00,  1.92it/s]/s]\n",
      "100%|██████████| 1/1 [00:00<00:00,  2.04it/s]/s]\n",
      "100%|██████████| 1/1 [00:00<00:00,  1.36it/s]/s]\n",
      "100%|██████████| 1/1 [00:00<00:00,  2.02it/s]/s]\n",
      "100%|██████████| 1/1 [00:00<00:00,  1.51it/s]/s]\n",
      "100%|██████████| 1/1 [00:00<00:00,  1.13it/s]/s]\n",
      "100%|██████████| 1/1 [00:00<00:00,  1.24it/s]/s]\n",
      "100%|██████████| 1/1 [00:00<00:00,  1.29it/s]/s]\n",
      "100%|██████████| 1/1 [00:00<00:00,  1.72it/s]/s]\n",
      "100%|██████████| 1/1 [00:00<00:00,  1.83it/s]/s]\n",
      "100%|██████████| 1/1 [00:00<00:00,  1.53it/s]/s]\n",
      "100%|██████████| 1/1 [00:00<00:00,  1.36it/s]/s]\n",
      "100%|██████████| 1/1 [00:00<00:00,  1.67it/s]/s]\n",
      "100%|██████████| 1/1 [00:00<00:00,  1.88it/s]/s]\n",
      "100%|██████████| 1/1 [00:00<00:00,  1.73it/s]/s]\n",
      "100%|██████████| 1/1 [00:00<00:00,  1.51it/s]/s]\n",
      "100%|██████████| 1/1 [00:00<00:00,  1.92it/s]/s]\n",
      "100%|██████████| 1/1 [00:00<00:00,  1.62it/s]/s]\n",
      "100%|██████████| 1/1 [00:00<00:00,  1.96it/s]/s]\n",
      "100%|██████████| 1/1 [00:00<00:00,  1.49it/s]/s]\n",
      "100%|██████████| 1/1 [00:00<00:00,  2.16it/s]/s]\n",
      "100%|██████████| 1/1 [00:00<00:00,  1.53it/s]/s]\n",
      "100%|██████████| 1/1 [00:00<00:00,  1.90it/s]/s]\n",
      "100%|██████████| 1/1 [00:00<00:00,  2.21it/s]/s]\n",
      "100%|██████████| 1/1 [00:00<00:00,  1.33it/s]/s]\n",
      "100%|██████████| 1/1 [00:00<00:00,  1.12it/s]/s]\n",
      "100%|██████████| 1/1 [00:00<00:00,  1.83it/s]/s]\n",
      "100%|██████████| 1/1 [00:00<00:00,  2.17it/s]/s]\n",
      "100%|██████████| 1/1 [00:00<00:00,  1.43it/s]/s]\n",
      "100%|██████████| 1/1 [00:00<00:00,  1.65it/s]/s]\n",
      "100%|██████████| 1/1 [00:00<00:00,  1.37it/s]/s]\n",
      "100%|██████████| 1/1 [00:00<00:00,  1.50it/s]/s]\n",
      "100%|██████████| 1/1 [00:00<00:00,  1.54it/s]/s]\n",
      "100%|██████████| 1/1 [00:00<00:00,  2.21it/s]/s]\n",
      "100%|██████████| 1/1 [00:00<00:00,  1.24it/s]/s]\n",
      "100%|██████████| 1/1 [00:00<00:00,  1.52it/s]/s]\n",
      "100%|██████████| 1/1 [00:00<00:00,  1.36it/s]/s]\n",
      "100%|██████████| 1/1 [00:00<00:00,  2.26it/s]/s]\n",
      "100%|██████████| 1/1 [00:00<00:00,  1.80it/s]/s]\n",
      "100%|██████████| 1/1 [00:00<00:00,  1.54it/s]/s]\n",
      "100%|██████████| 1/1 [00:00<00:00,  1.38it/s]/s]\n",
      "100%|██████████| 1/1 [00:00<00:00,  1.51it/s]/s]\n",
      "100%|██████████| 1/1 [00:00<00:00,  1.21it/s]/s]\n",
      "100%|██████████| 1/1 [00:00<00:00,  1.44it/s]/s]\n",
      "100%|██████████| 1/1 [00:00<00:00,  1.51it/s]/s]\n",
      "100%|██████████| 1/1 [00:00<00:00,  1.37it/s]/s]\n",
      "100%|██████████| 1/1 [00:00<00:00,  1.42it/s]/s]\n",
      "100%|██████████| 1/1 [00:00<00:00,  1.33it/s]/s]\n",
      "100%|██████████| 1/1 [00:00<00:00,  2.08it/s]/s]\n",
      "100%|██████████| 1/1 [00:00<00:00,  2.36it/s]/s]\n",
      "100%|██████████| 1/1 [00:00<00:00,  1.57it/s]/s]\n",
      "100%|██████████| 1/1 [00:00<00:00,  1.45it/s]/s]\n",
      "100%|██████████| 1/1 [00:00<00:00,  1.96it/s]/s]\n",
      "100%|██████████| 1/1 [00:01<00:00,  1.58s/it]/s]\n",
      "100%|██████████| 100/100 [01:17<00:00,  1.29it/s]\n"
     ]
    }
   ],
   "source": [
    "vectorstore = weaviatedb.WeaviateDB()\n",
    "\n",
    "for i, row in tqdm(processed_data.iterrows(), total=processed_data.shape[0]):\n",
    "    # print(f'Imported link: {row[\"Url\"]}')\n",
    "    db = import_data_to_db(\n",
    "        vectorstore=vectorstore,\n",
    "        meta_data={\"url\": str(row['Url'])},\n",
    "        page_content=row['Document'],\n",
    "        tenant_name='Recipe',\n",
    "        index_name=index  # latest index: Recipe_4901db92124f4ad4a22a18f5368603cb\n",
    "    )"
   ]
  },
  {
   "cell_type": "markdown",
   "metadata": {},
   "source": [
    "# Conversation"
   ]
  },
  {
   "cell_type": "code",
   "execution_count": 6,
   "metadata": {},
   "outputs": [],
   "source": [
    "# Trace the conversation with Langsmith\n",
    "def trace_by_langsmith(\n",
    "    is_langsmith: bool=False,\n",
    "    project_name: str='chatbot',\n",
    "):\n",
    "    if is_langsmith:\n",
    "        import os\n",
    "        print(f'LangChainBot: \\tTracing by Langsmith')\n",
    "        # Define the environment variables\n",
    "        env_vars = {\n",
    "            'LANGCHAIN_TRACING_V2': 'true',\n",
    "            'LANGCHAIN_ENDPOINT': 'https://api.smith.langchain.com',\n",
    "            'LANGCHAIN_PROJECT': project_name\n",
    "        }\n",
    "\n",
    "        for key, value in env_vars.items():\n",
    "            os.environ[key] = value\n",
    "# load yaml config file\n",
    "def load_config(file_path):\n",
    "    with open(file_path, 'r') as stream:\n",
    "        try:\n",
    "            return yaml.safe_load(stream)\n",
    "        except yaml.YAMLError as exc:\n",
    "            print(exc)\n",
    "# Config for my LLM\n",
    "class llm_config:\n",
    "    def __init__(self, prompt_config) -> None:\n",
    "        '''\n",
    "        The llm_model have 2 options OpenAI and Ollama\n",
    "        '''\n",
    "        \n",
    "        self.config = {}\n",
    "        if prompt_config:\n",
    "            self.prompt_config = prompt_config\n",
    "            print('Loading config from file_config')\n",
    "        else:\n",
    "            self.prompt_config = load_config('config/prompt_config.yml')\n",
    "            print('Loading config from default: config/prompt_config.yml')\n",
    "        self.condense_question_prompt = self.prompt_config['prompt']['condense_question_prompt']\n",
    "        self.combine_docs_prompt = self.prompt_config['prompt']['combine_docs_prompt']\n",
    "\n",
    "    def chose_llm_model(self, llm_model='OpenAI', use_redis=True):\n",
    "        if llm_model == 'OpenAI':\n",
    "            LLM = OpenAI\n",
    "            CHAT_MODELS = ChatOpenAI\n",
    "            # CHAT_MODEL_CONFIG = ChatOpenAI(temperature=0, model=\"gpt-3.5-turbo-0613\")\n",
    "            CHAT_MODEL_CONFIG = ChatOpenAI(temperature=0)\n",
    "            LLL_PARAMS = {\n",
    "                \"temperature\": 0,\n",
    "                # \"model\" : \"gpt-3.5-turbo-0613\",\n",
    "            }\n",
    "        elif llm_model == 'Ollama':\n",
    "            LLM = Ollama\n",
    "            CHAT_MODELS = ChatOllama\n",
    "            CHAT_MODEL_CONFIG = ChatOllama(temperature=0, model=\"phi\")\n",
    "            LLL_PARAMS = {\n",
    "                \"temperature\": 0,\n",
    "                \"model\": \"phi\",\n",
    "            }\n",
    "        else:\n",
    "            raise ('chose llm OpenAI or Ollama')\n",
    "        self.config[\"knowledge_configure\"] = {\n",
    "            \"knowledge_driver\": weaviatedb.WeaviateDB}\n",
    "        self.config[\"history_store\"] = {\"history_driver\": redisdb.RedisDB}\n",
    "        self.config[\"condense_question_configure\"] = {\"chain_core\": LLMChain, \"llm_core\": CHAT_MODELS,\n",
    "                                                      \"llm_core_params\": LLL_PARAMS, \"prompt_core_template\": self.condense_question_prompt}\n",
    "        self.config[\"memory_configure\"] = {\n",
    "            \"memory_core\": ConversationBufferMemory}\n",
    "        self.config[\"combine_docs_configure\"] = {\"stuff_chain_core\": StuffDocumentsChain, \"chain_core\": LLMChain,\n",
    "                                                 \"llm_core\": LLM, \"llm_core_params\": LLL_PARAMS, \"prompt_core_template\": self.combine_docs_prompt}\n",
    "        if use_redis:\n",
    "            self.config[\"stack_chain\"] = {\n",
    "                \"chain_core\": ConversationalRetrievalChain, \"runnable_chain\": RunnableWithMessageHistory}\n",
    "        else:\n",
    "            self.config[\"stack_chain\"] = {\n",
    "                \"chain_core\": ConversationalRetrievalChain, \"runnable_chain\": False}\n",
    "            \n",
    "        return self.config\n",
    "\n",
    "    def chose_llm_embedding(self, llm_model='OpenAI'):\n",
    "        if llm_model == 'OpenAI':\n",
    "            embedding = OpenAIEmbeddings(model=\"text-embedding-3-small\")\n",
    "        elif llm_model == 'Ollama':\n",
    "            embedding = OllamaEmbeddings(model=\"phi\")\n",
    "        self.config['embedding_configure'] = {'embedding': embedding}\n",
    "\n",
    "        return self.config\n",
    "\n",
    "    def config_db(self, index, text_key, tenant_name):\n",
    "        self.config[\"stack_chain\"]['index_db'] = index\n",
    "        self.config[\"stack_chain\"]['text_key'] = text_key\n",
    "        self.config[\"stack_chain\"]['tenant_name'] = tenant_name\n",
    "\n",
    "        return self.config\n",
    "# function that config llm model for our chatbot for each index\n",
    "def start_chatbot(config_llm, index, text_key, tenant_name, debug=False):\n",
    "    try:\n",
    "        config = config_llm.chose_llm_embedding(\n",
    "            llm_model=\"OpenAI\")  # [OpenAI or Ollama]\n",
    "        config = config_llm.chose_llm_model(\n",
    "            llm_model=\"OpenAI\", use_redis=debug)\n",
    "        config = config_llm.config_db(index, text_key, tenant_name)\n",
    "        # config = config_llm.langsmith(is_langsmith=True)\n",
    "        chatbot = LangChainBot.bare_init(**config)\n",
    "    except Exception as e:\n",
    "        if debug:\n",
    "            raise e  # Re-raise exception in debug mode\n",
    "        else:\n",
    "            chatbot = None\n",
    "    return chatbot\n",
    "\n",
    "# Start conversation\n",
    "async def process_question(session_id, question, index_name, text_key, tenant, config_llm):\n",
    "    trace_by_langsmith(True, project_name = \"Receipe-chatbot\")\n",
    "    chatbot = start_chatbot(\n",
    "        config_llm, index_name, text_key, tenant, debug=True)\n",
    "    \n",
    "    if chatbot is None:\n",
    "        return {\"msg\": \"You need to start your chatbot\"}\n",
    "\n",
    "    try:\n",
    "        answer, msg = await chatbot.ask(session_id=session_id, question=question)\n",
    "        return answer\n",
    "    except Exception as e:\n",
    "        return {\"error\": str(e)}"
   ]
  },
  {
   "cell_type": "code",
   "execution_count": 7,
   "metadata": {},
   "outputs": [
    {
     "name": "stdout",
     "output_type": "stream",
     "text": [
      "Loading config from file_config\n"
     ]
    }
   ],
   "source": [
    "# config llm model\n",
    "prompt_config = load_config('config/prompt_config.yml')\n",
    "config_llm = llm_config(prompt_config)"
   ]
  },
  {
   "cell_type": "code",
   "execution_count": 8,
   "metadata": {},
   "outputs": [
    {
     "name": "stdout",
     "output_type": "stream",
     "text": [
      "LangChainBot: \tTracing by Langsmith\n"
     ]
    },
    {
     "name": "stderr",
     "output_type": "stream",
     "text": [
      "Error in StdOutCallbackHandler.on_chain_start callback: AttributeError(\"'NoneType' object has no attribute 'get'\")\n"
     ]
    },
    {
     "name": "stdout",
     "output_type": "stream",
     "text": [
      "\n",
      "\u001b[1m> Finished chain.\u001b[0m\n",
      "\n",
      " The response: To make Apple Crisp, you will need to preheat the oven to 350 degrees F (175 degrees C). Then, place sliced apples in a 9x13-inch baking dish and mix white sugar, 1 tablespoon flour, and cinnamon together; sprinkle over apples. Pour water evenly over apples. In a separate bowl, combine oats, 1 cup flour, brown sugar, baking powder, and baking soda. Add melted butter and mix with a fork until crumbly; sprinkle evenly over apple mixture. Bake in the preheated oven for about 45 minutes, until the top is golden brown and the apples are bubbling around the edges. Enjoy your delicious Apple Crisp!\n"
     ]
    }
   ],
   "source": [
    "session_id = \"111\"\n",
    "question = \"I'm trying to make a Apple Crisp , but I'm not sure when to add the sugar. Can you guide me through the steps?\"\n",
    "tenant = \"Recipe\"\n",
    "index_name = \"Recipe_4901db92124f4ad4a22a18f5368603cb\"\n",
    "text_key = \"text\"\n",
    "response = await process_question(session_id, question, index_name, text_key, tenant, config_llm)\n",
    "print('\\n The response:', response['chatbot_answer'])\n",
    "\n"
   ]
  },
  {
   "cell_type": "code",
   "execution_count": 5,
   "metadata": {},
   "outputs": [
    {
     "name": "stdout",
     "output_type": "stream",
     "text": [
      "LangChainBot: \tTracing by Langsmith\n"
     ]
    },
    {
     "name": "stderr",
     "output_type": "stream",
     "text": [
      "Error in StdOutCallbackHandler.on_chain_start callback: AttributeError(\"'NoneType' object has no attribute 'get'\")\n"
     ]
    },
    {
     "name": "stdout",
     "output_type": "stream",
     "text": [
      "\n",
      "\u001b[1m> Finished chain.\u001b[0m\n",
      "\n",
      " The response: \n",
      "You can use honey, maple syrup, or coconut sugar as a substitute for white sugar in Apple Crisp.\n"
     ]
    }
   ],
   "source": [
    "session_id = \"1\"\n",
    "question = \"What should I do when I don't have sugar\"\n",
    "tenant = \"Recipe\"\n",
    "index_name = \"Recipe_4901db92124f4ad4a22a18f5368603cb\"\n",
    "text_key = \"text\"\n",
    "response = await process_question(session_id, question, index_name, text_key, tenant, config_llm)\n",
    "print('\\n The response:', response['chatbot_answer'])\n",
    "\n"
   ]
  },
  {
   "cell_type": "code",
   "execution_count": 6,
   "metadata": {},
   "outputs": [
    {
     "name": "stdout",
     "output_type": "stream",
     "text": [
      "LangChainBot: \tTracing by Langsmith\n"
     ]
    },
    {
     "name": "stderr",
     "output_type": "stream",
     "text": [
      "Error in StdOutCallbackHandler.on_chain_start callback: AttributeError(\"'NoneType' object has no attribute 'get'\")\n"
     ]
    },
    {
     "name": "stdout",
     "output_type": "stream",
     "text": [
      "\n",
      "\u001b[1m> Finished chain.\u001b[0m\n",
      "\n",
      " The response: I would suggest trying the Baked Apple Roses recipe. It's a delicious and visually appealing dessert that is sure to impress. Would you like me to provide the directions for this recipe?\n"
     ]
    }
   ],
   "source": [
    "session_id = \"2\"\n",
    "question = \"Suggest me recipe with apple\"\n",
    "tenant = \"Recipe\"\n",
    "index_name = \"Recipe_4901db92124f4ad4a22a18f5368603cb\"\n",
    "text_key = \"text\"\n",
    "response = await process_question(session_id, question, index_name, text_key, tenant, config_llm)\n",
    "print('\\n The response:', response['chatbot_answer'])\n"
   ]
  },
  {
   "cell_type": "code",
   "execution_count": 7,
   "metadata": {},
   "outputs": [
    {
     "name": "stdout",
     "output_type": "stream",
     "text": [
      "LangChainBot: \tTracing by Langsmith\n"
     ]
    },
    {
     "name": "stderr",
     "output_type": "stream",
     "text": [
      "Error in StdOutCallbackHandler.on_chain_start callback: AttributeError(\"'NoneType' object has no attribute 'get'\")\n"
     ]
    },
    {
     "name": "stdout",
     "output_type": "stream",
     "text": [
      "\n",
      "\u001b[1m> Finished chain.\u001b[0m\n",
      "\n",
      " The response: Directions for Baked Apple Roses:\n",
      "1. Preheat the oven to 400 degrees F (200 degrees C). Adjust an oven rack to the middle position. Butter two (6 to 8-ounce) ramekins and dust with white sugar.\n",
      "2. Place apple slices on a microwave-safe plate, overlapping slightly if necessary. Microwave on high until slices slightly soften, about 45 seconds. Cover the plate with plastic wrap and a kitchen towel.\n",
      "3. Mix together sugar and cinnamon in a small bowl.\n",
      "4. Roll puff pastry sheet to less than 1/8-inch thickness. Using a pizza cutter, cut two (3x12-inch) rectangles. Reserve remaining pieces for another use.\n",
      "5. Spread melted butter over dough; sprinkle with a generous amount of cinnamon sugar. Place apple slices along one long edge of dough, about 1/4 inch beyond the edge, overlapping slices slightly. Fold the bottom half of dough over apple slices to form a long \"folder\" of dough with rounded edges of apple slices exposed.\n",
      "6. Beat together egg and water in a small bowl. Brush surface of dough with egg wash. Sprinkle with cinnamon sugar.\n",
      "7. Starting at one end, roll dough to form a rose-shaped pastry. Seal roll with end of dough\n"
     ]
    }
   ],
   "source": [
    "session_id = \"2\"\n",
    "question = \"how to cook this step by step?\"\n",
    "tenant = \"Recipe\"\n",
    "index_name = \"Recipe_4901db92124f4ad4a22a18f5368603cb\"\n",
    "text_key = \"text\"\n",
    "response = await process_question(session_id, question, index_name, text_key, tenant, config_llm)\n",
    "print('\\n The response:', response['chatbot_answer'])\n"
   ]
  }
 ],
 "metadata": {
  "kernelspec": {
   "display_name": "recipe",
   "language": "python",
   "name": "python3"
  },
  "language_info": {
   "codemirror_mode": {
    "name": "ipython",
    "version": 3
   },
   "file_extension": ".py",
   "mimetype": "text/x-python",
   "name": "python",
   "nbconvert_exporter": "python",
   "pygments_lexer": "ipython3",
   "version": "3.10.14"
  },
  "orig_nbformat": 4
 },
 "nbformat": 4,
 "nbformat_minor": 2
}
